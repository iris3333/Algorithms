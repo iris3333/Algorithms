{
 "cells": [
  {
   "cell_type": "markdown",
   "id": "vocational-raise",
   "metadata": {},
   "source": [
    "# class list: mutable sequence"
   ]
  },
  {
   "cell_type": "code",
   "execution_count": 1,
   "id": "simple-visitor",
   "metadata": {},
   "outputs": [
    {
     "name": "stdout",
     "output_type": "stream",
     "text": [
      "<class 'list'>\n"
     ]
    }
   ],
   "source": [
    "print(type(['Hello','World']))"
   ]
  },
  {
   "cell_type": "markdown",
   "id": "distant-appeal",
   "metadata": {},
   "source": [
    "### sequence: index, slice"
   ]
  },
  {
   "cell_type": "code",
   "execution_count": 2,
   "id": "greenhouse-happening",
   "metadata": {},
   "outputs": [
    {
     "name": "stdout",
     "output_type": "stream",
     "text": [
      "1\n",
      "[1, 2, 3, 4]\n"
     ]
    }
   ],
   "source": [
    "my_list = [1,2,3,4,5,6,7]\n",
    "print(my_list[0]) # get item: list[i] -> O(1)\n",
    "print(my_list[0:4]) # get slice: list[i:j:k] -> O(k)"
   ]
  },
  {
   "cell_type": "code",
   "execution_count": 3,
   "id": "plain-syria",
   "metadata": {},
   "outputs": [
    {
     "name": "stdout",
     "output_type": "stream",
     "text": [
      "[1, 3, 5, 7]\n",
      "[7, 6, 5, 4, 3, 2, 1]\n"
     ]
    }
   ],
   "source": [
    "my_list = [1,2,3,4,5,6,7]\n",
    "print(my_list[::2]) # by step\n",
    "print(my_list[::-1]) # reverse"
   ]
  },
  {
   "cell_type": "code",
   "execution_count": 4,
   "id": "fifty-consumption",
   "metadata": {},
   "outputs": [
    {
     "name": "stdout",
     "output_type": "stream",
     "text": [
      "[1, 2, 3, 4, 5, 6, 7, 1, 2, 3, 4, 5, 6, 7]\n",
      "[1, 2, 3, 4, 5, 6, 7, 1, 2, 3, 4, 5, 6, 7]\n"
     ]
    }
   ],
   "source": [
    "my_list = [1,2,3,4,5,6,7]\n",
    "print(my_list + my_list) # concatenate: list + list\n",
    "print(my_list * 2) # multiply: list * int"
   ]
  },
  {
   "cell_type": "markdown",
   "id": "numeric-initial",
   "metadata": {},
   "source": [
    "### methods: find, count"
   ]
  },
  {
   "cell_type": "code",
   "execution_count": 5,
   "id": "dental-asbestos",
   "metadata": {},
   "outputs": [
    {
     "data": {
      "text/plain": [
       "3"
      ]
     },
     "execution_count": 5,
     "metadata": {},
     "output_type": "execute_result"
    }
   ],
   "source": [
    "# return the first index, ValueError when unfound\n",
    "# list.index(x,i,j) -> O(N)\n",
    "my_list = list('#FF0000')\n",
    "my_list.index('0')"
   ]
  },
  {
   "cell_type": "code",
   "execution_count": 6,
   "id": "robust-phone",
   "metadata": {},
   "outputs": [
    {
     "data": {
      "text/plain": [
       "4"
      ]
     },
     "execution_count": 6,
     "metadata": {},
     "output_type": "execute_result"
    }
   ],
   "source": [
    "# return the number of items\n",
    "# list.count(x) -> O(N)\n",
    "my_list = list('#FF0000')\n",
    "my_list.count('0')"
   ]
  },
  {
   "cell_type": "markdown",
   "id": "cordless-polish",
   "metadata": {},
   "source": [
    "### mutable: insert, delete"
   ]
  },
  {
   "cell_type": "code",
   "execution_count": 7,
   "id": "major-intervention",
   "metadata": {},
   "outputs": [
    {
     "name": "stdout",
     "output_type": "stream",
     "text": [
      "[10, 20, 30, 40, 50, 'X']\n"
     ]
    }
   ],
   "source": [
    "# insert an item at the end\n",
    "# <in-place> list.append(x) -> O(1)\n",
    "my_list = [10,20,30,40,50]\n",
    "my_list.append('X')\n",
    "print(my_list)"
   ]
  },
  {
   "cell_type": "code",
   "execution_count": 8,
   "id": "following-rouge",
   "metadata": {},
   "outputs": [
    {
     "name": "stdout",
     "output_type": "stream",
     "text": [
      "[10, 20, 30, 40, 50, 'X']\n"
     ]
    }
   ],
   "source": [
    "# insert an item by index\n",
    "# <in-place> list.insert(i,x) -> O(N)\n",
    "my_list = [10,20,30,40,50]\n",
    "my_list.insert(5,'X')\n",
    "print(my_list)"
   ]
  },
  {
   "cell_type": "code",
   "execution_count": 9,
   "id": "accessory-region",
   "metadata": {},
   "outputs": [
    {
     "name": "stdout",
     "output_type": "stream",
     "text": [
      "[10, 20, 30, 40, 50, 'X', 'Y', 'Z']\n"
     ]
    }
   ],
   "source": [
    "# concatenate\n",
    "# <in-place> list.extend(iterable) -> O(k)\n",
    "my_list = [10,20,30,40,50]\n",
    "my_list.extend(['X','Y','Z'])\n",
    "print(my_list)"
   ]
  },
  {
   "cell_type": "code",
   "execution_count": 10,
   "id": "young-boutique",
   "metadata": {},
   "outputs": [
    {
     "name": "stdout",
     "output_type": "stream",
     "text": [
      "['#', '1', '0', '0', 'F', 'F']\n"
     ]
    }
   ],
   "source": [
    "# delete the first item, ValueError when unfound\n",
    "# <in-place> list.remove(x) -> O(N)\n",
    "my_list = list('#0100FF')\n",
    "my_list.remove('0')\n",
    "print(my_list)"
   ]
  },
  {
   "cell_type": "code",
   "execution_count": 11,
   "id": "super-subject",
   "metadata": {},
   "outputs": [
    {
     "name": "stdout",
     "output_type": "stream",
     "text": [
      "['#', '1', '0', '0', 'F', 'F']\n"
     ]
    }
   ],
   "source": [
    "# delete and return an item by index\n",
    "# <in-place> list.pop(i) -> O(N)\n",
    "my_list = list('#0100FF')\n",
    "my_list.pop(1)\n",
    "print(my_list)"
   ]
  },
  {
   "cell_type": "code",
   "execution_count": 12,
   "id": "serious-mayor",
   "metadata": {},
   "outputs": [
    {
     "name": "stdout",
     "output_type": "stream",
     "text": [
      "['#', '0', '1', 'F', 'F']\n"
     ]
    }
   ],
   "source": [
    "# delete by slice\n",
    "# <in-place> del list[i:j:k] -> O(N)\n",
    "my_list = list('#0100FF')\n",
    "del my_list[3:5]\n",
    "print(my_list)"
   ]
  },
  {
   "cell_type": "code",
   "execution_count": 13,
   "id": "laughing-stream",
   "metadata": {},
   "outputs": [
    {
     "name": "stdout",
     "output_type": "stream",
     "text": [
      "[]\n"
     ]
    }
   ],
   "source": [
    "# delete all items\n",
    "# <in-place> list.clear() -> O(1)\n",
    "my_list = list('#0100FF')\n",
    "my_list.clear()\n",
    "print(my_list)"
   ]
  },
  {
   "cell_type": "markdown",
   "id": "extended-separate",
   "metadata": {},
   "source": [
    "### list methods"
   ]
  },
  {
   "cell_type": "code",
   "execution_count": 14,
   "id": "sonic-immune",
   "metadata": {},
   "outputs": [
    {
     "name": "stdout",
     "output_type": "stream",
     "text": [
      "[1, 2, 3, 4, 5, 6, 7]\n"
     ]
    }
   ],
   "source": [
    "# sort, TypeError when heterogeneous\n",
    "# <in-place> list.sort(key=None, reverse=False) -> O(NlogN)\n",
    "my_list = [3,6,2,7,5,1,4]\n",
    "my_list.sort(key=None, reverse=False)\n",
    "print(my_list)"
   ]
  },
  {
   "cell_type": "code",
   "execution_count": 15,
   "id": "arbitrary-passage",
   "metadata": {},
   "outputs": [
    {
     "name": "stdout",
     "output_type": "stream",
     "text": [
      "[4, 1, 5, 7, 2, 6, 3]\n"
     ]
    }
   ],
   "source": [
    "# reverse\n",
    "# <in-place> list.reverse() -> O(N)\n",
    "my_list = [3,6,2,7,5,1,4]\n",
    "my_list.reverse()\n",
    "print(my_list)"
   ]
  }
 ],
 "metadata": {
  "kernelspec": {
   "display_name": "Python 3",
   "language": "python",
   "name": "python3"
  },
  "language_info": {
   "codemirror_mode": {
    "name": "ipython",
    "version": 3
   },
   "file_extension": ".py",
   "mimetype": "text/x-python",
   "name": "python",
   "nbconvert_exporter": "python",
   "pygments_lexer": "ipython3",
   "version": "3.8.5"
  }
 },
 "nbformat": 4,
 "nbformat_minor": 5
}
