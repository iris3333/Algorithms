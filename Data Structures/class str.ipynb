{
 "cells": [
  {
   "cell_type": "markdown",
   "id": "planned-parliament",
   "metadata": {},
   "source": [
    "# <class 'str'> immutable sequence"
   ]
  },
  {
   "cell_type": "code",
   "execution_count": 1,
   "id": "compact-genetics",
   "metadata": {},
   "outputs": [
    {
     "name": "stdout",
     "output_type": "stream",
     "text": [
      "<class 'str'>\n"
     ]
    }
   ],
   "source": [
    "print(type('''Three quotation marks mean a long string.'''))"
   ]
  },
  {
   "cell_type": "markdown",
   "id": "hired-skiing",
   "metadata": {},
   "source": [
    "### [ sequence ] ordered, via index, duplicates"
   ]
  },
  {
   "cell_type": "code",
   "execution_count": 2,
   "id": "civic-interface",
   "metadata": {},
   "outputs": [
    {
     "name": "stdout",
     "output_type": "stream",
     "text": [
      "9\n",
      "98765\n"
     ]
    }
   ],
   "source": [
    "my_str = '987654321'\n",
    "print(my_str[0]) # get item: str[i]\n",
    "print(my_str[0:5]) # get slice: str[i:j:k]"
   ]
  },
  {
   "cell_type": "code",
   "execution_count": 3,
   "id": "australian-giant",
   "metadata": {},
   "outputs": [
    {
     "name": "stdout",
     "output_type": "stream",
     "text": [
      "97531\n",
      "123456789\n"
     ]
    }
   ],
   "source": [
    "my_str = '987654321'\n",
    "print(my_str[::2]) # by step\n",
    "print(my_str[::-1]) # reverse"
   ]
  },
  {
   "cell_type": "code",
   "execution_count": 4,
   "id": "explicit-pioneer",
   "metadata": {},
   "outputs": [
    {
     "name": "stdout",
     "output_type": "stream",
     "text": [
      "987654321987654321\n",
      "987654321987654321\n"
     ]
    }
   ],
   "source": [
    "my_str = '987654321'\n",
    "print(my_str + my_str) # concatenate: str + str\n",
    "print(my_str * 2) # repeat: str * int"
   ]
  },
  {
   "cell_type": "markdown",
   "id": "latin-journalist",
   "metadata": {},
   "source": [
    "### methods: find, count"
   ]
  },
  {
   "cell_type": "code",
   "execution_count": 5,
   "id": "atmospheric-standing",
   "metadata": {},
   "outputs": [
    {
     "name": "stdout",
     "output_type": "stream",
     "text": [
      "3\n",
      "6\n"
     ]
    }
   ],
   "source": [
    "# str.find(sub,i,j)\n",
    "# return the first index # -1 when unfound\n",
    "my_str = '#FF0000'\n",
    "print(my_str.find('0'))\n",
    "print(my_str.rfind('0'))"
   ]
  },
  {
   "cell_type": "code",
   "execution_count": 6,
   "id": "direct-invitation",
   "metadata": {},
   "outputs": [
    {
     "name": "stdout",
     "output_type": "stream",
     "text": [
      "4\n"
     ]
    }
   ],
   "source": [
    "# str.count(sub,i,j)\n",
    "# return the number of substrings\n",
    "my_str = '#FF0000'\n",
    "print(my_str.count('0'))"
   ]
  }
 ],
 "metadata": {
  "kernelspec": {
   "display_name": "Python 3",
   "language": "python",
   "name": "python3"
  },
  "language_info": {
   "codemirror_mode": {
    "name": "ipython",
    "version": 3
   },
   "file_extension": ".py",
   "mimetype": "text/x-python",
   "name": "python",
   "nbconvert_exporter": "python",
   "pygments_lexer": "ipython3",
   "version": "3.8.5"
  }
 },
 "nbformat": 4,
 "nbformat_minor": 5
}
