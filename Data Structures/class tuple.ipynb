{
 "cells": [
  {
   "cell_type": "markdown",
   "id": "abandoned-owner",
   "metadata": {},
   "source": [
    "# <class 'tuple'> immutable sequence"
   ]
  },
  {
   "cell_type": "code",
   "execution_count": 1,
   "id": "cathedral-tuning",
   "metadata": {},
   "outputs": [
    {
     "name": "stdout",
     "output_type": "stream",
     "text": [
      "<class 'tuple'>\n"
     ]
    }
   ],
   "source": [
    "print(type(('Hello','World')))"
   ]
  },
  {
   "cell_type": "markdown",
   "id": "pharmaceutical-liberty",
   "metadata": {},
   "source": [
    "### [ sequence ] ordered, via index, duplicates"
   ]
  },
  {
   "cell_type": "code",
   "execution_count": 2,
   "id": "municipal-beatles",
   "metadata": {},
   "outputs": [
    {
     "name": "stdout",
     "output_type": "stream",
     "text": [
      "9\n",
      "(9, 8, 7, 6, 5)\n"
     ]
    }
   ],
   "source": [
    "my_tuple = (9,8,7,6,5,4,3,2,1)\n",
    "print(my_tuple[0]) # get item: tuple[i]\n",
    "print(my_tuple[0:5]) # get slice: tuple[i:j:k]"
   ]
  },
  {
   "cell_type": "code",
   "execution_count": 3,
   "id": "missing-ethnic",
   "metadata": {},
   "outputs": [
    {
     "name": "stdout",
     "output_type": "stream",
     "text": [
      "(9, 7, 5, 3, 1)\n",
      "(1, 2, 3, 4, 5, 6, 7, 8, 9)\n"
     ]
    }
   ],
   "source": [
    "my_tuple = (9,8,7,6,5,4,3,2,1)\n",
    "print(my_tuple[::2]) # by step\n",
    "print(my_tuple[::-1]) # reverse"
   ]
  },
  {
   "cell_type": "code",
   "execution_count": 4,
   "id": "accredited-commissioner",
   "metadata": {},
   "outputs": [
    {
     "name": "stdout",
     "output_type": "stream",
     "text": [
      "(9, 8, 7, 6, 5, 4, 3, 2, 1, 9, 8, 7, 6, 5, 4, 3, 2, 1)\n",
      "(9, 8, 7, 6, 5, 4, 3, 2, 1, 9, 8, 7, 6, 5, 4, 3, 2, 1)\n"
     ]
    }
   ],
   "source": [
    "my_tuple = (9,8,7,6,5,4,3,2,1)\n",
    "print(my_tuple + my_tuple) # concatenate: tuple + tuple\n",
    "print(my_tuple * 2) # repeat: tuple * int"
   ]
  },
  {
   "cell_type": "markdown",
   "id": "curious-supplier",
   "metadata": {},
   "source": [
    "### methods: find, count"
   ]
  },
  {
   "cell_type": "code",
   "execution_count": 5,
   "id": "latest-cardiff",
   "metadata": {},
   "outputs": [
    {
     "data": {
      "text/plain": [
       "3"
      ]
     },
     "execution_count": 5,
     "metadata": {},
     "output_type": "execute_result"
    }
   ],
   "source": [
    "# tuple.index(x,i,j)\n",
    "# return the first index # ValueError when unfound\n",
    "my_tuple = tuple('#FF0000')\n",
    "my_tuple.index('0')"
   ]
  },
  {
   "cell_type": "code",
   "execution_count": 6,
   "id": "endangered-facility",
   "metadata": {},
   "outputs": [
    {
     "data": {
      "text/plain": [
       "4"
      ]
     },
     "execution_count": 6,
     "metadata": {},
     "output_type": "execute_result"
    }
   ],
   "source": [
    "# tuple.count(x)\n",
    "# return the number of items\n",
    "my_tuple = tuple('#FF0000')\n",
    "my_tuple.count('0')"
   ]
  }
 ],
 "metadata": {
  "kernelspec": {
   "display_name": "Python 3",
   "language": "python",
   "name": "python3"
  },
  "language_info": {
   "codemirror_mode": {
    "name": "ipython",
    "version": 3
   },
   "file_extension": ".py",
   "mimetype": "text/x-python",
   "name": "python",
   "nbconvert_exporter": "python",
   "pygments_lexer": "ipython3",
   "version": "3.8.5"
  }
 },
 "nbformat": 4,
 "nbformat_minor": 5
}
