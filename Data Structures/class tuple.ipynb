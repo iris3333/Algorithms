{
 "cells": [
  {
   "cell_type": "markdown",
   "id": "encouraging-college",
   "metadata": {},
   "source": [
    "# class tuple: immutable sequence"
   ]
  },
  {
   "cell_type": "code",
   "execution_count": 1,
   "id": "rocky-alexandria",
   "metadata": {},
   "outputs": [
    {
     "name": "stdout",
     "output_type": "stream",
     "text": [
      "<class 'tuple'>\n"
     ]
    }
   ],
   "source": [
    "print(type(('Hello','World')))"
   ]
  },
  {
   "cell_type": "markdown",
   "id": "occasional-leonard",
   "metadata": {},
   "source": [
    "### sequence: index, slice"
   ]
  },
  {
   "cell_type": "code",
   "execution_count": 2,
   "id": "dried-controversy",
   "metadata": {},
   "outputs": [
    {
     "name": "stdout",
     "output_type": "stream",
     "text": [
      "1\n",
      "(1, 2, 3, 4)\n"
     ]
    }
   ],
   "source": [
    "my_tuple = (1,2,3,4,5,6,7)\n",
    "print(my_tuple[0]) # get item: tuple[i]\n",
    "print(my_tuple[0:4]) # get slice: tuple[i:j:k]"
   ]
  },
  {
   "cell_type": "code",
   "execution_count": 3,
   "id": "polished-heart",
   "metadata": {},
   "outputs": [
    {
     "name": "stdout",
     "output_type": "stream",
     "text": [
      "(1, 3, 5, 7)\n",
      "(7, 6, 5, 4, 3, 2, 1)\n"
     ]
    }
   ],
   "source": [
    "my_tuple = (1,2,3,4,5,6,7)\n",
    "print(my_tuple[::2]) # by step\n",
    "print(my_tuple[::-1]) # reverse"
   ]
  },
  {
   "cell_type": "code",
   "execution_count": 4,
   "id": "double-manor",
   "metadata": {},
   "outputs": [
    {
     "name": "stdout",
     "output_type": "stream",
     "text": [
      "(1, 2, 3, 4, 5, 6, 7, 1, 2, 3, 4, 5, 6, 7)\n",
      "(1, 2, 3, 4, 5, 6, 7, 1, 2, 3, 4, 5, 6, 7)\n"
     ]
    }
   ],
   "source": [
    "my_tuple = (1,2,3,4,5,6,7)\n",
    "print(my_tuple + my_tuple) # concatenate: tuple + tuple\n",
    "print(my_tuple * 2) # multiply: tuple * int"
   ]
  },
  {
   "cell_type": "markdown",
   "id": "jewish-chart",
   "metadata": {},
   "source": [
    "### methods: find, count"
   ]
  },
  {
   "cell_type": "code",
   "execution_count": 5,
   "id": "convertible-scene",
   "metadata": {},
   "outputs": [
    {
     "data": {
      "text/plain": [
       "3"
      ]
     },
     "execution_count": 5,
     "metadata": {},
     "output_type": "execute_result"
    }
   ],
   "source": [
    "# return the first index, ValueError when unfound\n",
    "# tuple.index(x,i,j)\n",
    "my_tuple = tuple('#FF0000')\n",
    "my_tuple.index('0')"
   ]
  },
  {
   "cell_type": "code",
   "execution_count": 6,
   "id": "thermal-aging",
   "metadata": {},
   "outputs": [
    {
     "data": {
      "text/plain": [
       "4"
      ]
     },
     "execution_count": 6,
     "metadata": {},
     "output_type": "execute_result"
    }
   ],
   "source": [
    "# return the number of items\n",
    "# tuple.count(x)\n",
    "my_tuple = tuple('#FF0000')\n",
    "my_tuple.count('0')"
   ]
  }
 ],
 "metadata": {
  "kernelspec": {
   "display_name": "Python 3",
   "language": "python",
   "name": "python3"
  },
  "language_info": {
   "codemirror_mode": {
    "name": "ipython",
    "version": 3
   },
   "file_extension": ".py",
   "mimetype": "text/x-python",
   "name": "python",
   "nbconvert_exporter": "python",
   "pygments_lexer": "ipython3",
   "version": "3.8.5"
  }
 },
 "nbformat": 4,
 "nbformat_minor": 5
}
