{
 "cells": [
  {
   "cell_type": "markdown",
   "id": "environmental-cable",
   "metadata": {},
   "source": [
    "# <class 'list'> mutable sequence"
   ]
  },
  {
   "cell_type": "code",
   "execution_count": 1,
   "id": "mature-photographer",
   "metadata": {},
   "outputs": [
    {
     "name": "stdout",
     "output_type": "stream",
     "text": [
      "<class 'list'>\n"
     ]
    }
   ],
   "source": [
    "print(type(['Hello','World']))"
   ]
  },
  {
   "cell_type": "markdown",
   "id": "powerful-hours",
   "metadata": {},
   "source": [
    "### [ sequence ] ordered, via index, duplicates"
   ]
  },
  {
   "cell_type": "code",
   "execution_count": 2,
   "id": "metric-possible",
   "metadata": {},
   "outputs": [
    {
     "name": "stdout",
     "output_type": "stream",
     "text": [
      "9\n",
      "[9, 8, 7, 6, 5]\n"
     ]
    }
   ],
   "source": [
    "my_list = [9,8,7,6,5,4,3,2,1]\n",
    "print(my_list[0]) # get item: list[i] -> O(1)\n",
    "print(my_list[0:5]) # get slice: list[i:j:k] -> O(k)"
   ]
  },
  {
   "cell_type": "code",
   "execution_count": 3,
   "id": "young-excellence",
   "metadata": {},
   "outputs": [
    {
     "name": "stdout",
     "output_type": "stream",
     "text": [
      "[9, 7, 5, 3, 1]\n",
      "[1, 2, 3, 4, 5, 6, 7, 8, 9]\n"
     ]
    }
   ],
   "source": [
    "my_list = [9,8,7,6,5,4,3,2,1]\n",
    "print(my_list[::2]) # by step\n",
    "print(my_list[::-1]) # reverse"
   ]
  },
  {
   "cell_type": "code",
   "execution_count": 4,
   "id": "breathing-actress",
   "metadata": {},
   "outputs": [
    {
     "name": "stdout",
     "output_type": "stream",
     "text": [
      "[9, 8, 7, 6, 5, 4, 3, 2, 1, 9, 8, 7, 6, 5, 4, 3, 2, 1]\n",
      "[9, 8, 7, 6, 5, 4, 3, 2, 1, 9, 8, 7, 6, 5, 4, 3, 2, 1]\n"
     ]
    }
   ],
   "source": [
    "my_list = [9,8,7,6,5,4,3,2,1]\n",
    "print(my_list + my_list) # concatenate: list + list\n",
    "print(my_list * 2) # repeat: list * int"
   ]
  },
  {
   "cell_type": "markdown",
   "id": "bored-supplier",
   "metadata": {},
   "source": [
    "### methods: find, count"
   ]
  },
  {
   "cell_type": "code",
   "execution_count": 5,
   "id": "pressing-lithuania",
   "metadata": {},
   "outputs": [
    {
     "data": {
      "text/plain": [
       "3"
      ]
     },
     "execution_count": 5,
     "metadata": {},
     "output_type": "execute_result"
    }
   ],
   "source": [
    "# list.index(x,i,j) -> O(N)\n",
    "# return the first index # ValueError when unfound\n",
    "my_list = list('#FF0000')\n",
    "my_list.index('0')"
   ]
  },
  {
   "cell_type": "code",
   "execution_count": 6,
   "id": "compound-trigger",
   "metadata": {},
   "outputs": [
    {
     "data": {
      "text/plain": [
       "4"
      ]
     },
     "execution_count": 6,
     "metadata": {},
     "output_type": "execute_result"
    }
   ],
   "source": [
    "# list.count(x) -> O(N)\n",
    "# return the number of items\n",
    "my_list = list('#FF0000')\n",
    "my_list.count('0')"
   ]
  }
 ],
 "metadata": {
  "kernelspec": {
   "display_name": "Python 3",
   "language": "python",
   "name": "python3"
  },
  "language_info": {
   "codemirror_mode": {
    "name": "ipython",
    "version": 3
   },
   "file_extension": ".py",
   "mimetype": "text/x-python",
   "name": "python",
   "nbconvert_exporter": "python",
   "pygments_lexer": "ipython3",
   "version": "3.8.5"
  }
 },
 "nbformat": 4,
 "nbformat_minor": 5
}
