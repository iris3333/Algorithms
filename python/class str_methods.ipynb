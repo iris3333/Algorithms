{
 "cells": [
  {
   "cell_type": "markdown",
   "id": "north-matthew",
   "metadata": {},
   "source": [
    "# <class 'str'> methods"
   ]
  },
  {
   "cell_type": "markdown",
   "id": "tested-stadium",
   "metadata": {},
   "source": [
    "***"
   ]
  },
  {
   "cell_type": "code",
   "execution_count": 1,
   "id": "official-nevada",
   "metadata": {},
   "outputs": [
    {
     "name": "stdout",
     "output_type": "stream",
     "text": [
      "HELLO WORLD\n",
      "hello world\n",
      "hELLO wORLD\n"
     ]
    }
   ],
   "source": [
    "my_str = 'Hello World'\n",
    "print(my_str.upper()) # str.upper()\n",
    "print(my_str.lower()) # str.lower()\n",
    "print(my_str.swapcase()) # str.swapcase()"
   ]
  },
  {
   "cell_type": "code",
   "execution_count": 2,
   "id": "funny-singapore",
   "metadata": {},
   "outputs": [
    {
     "name": "stdout",
     "output_type": "stream",
     "text": [
      "Hello World\n",
      "Hello world\n"
     ]
    }
   ],
   "source": [
    "my_str = 'hello world'\n",
    "print(my_str.title()) # str.title()\n",
    "print(my_str.capitalize()) # str.capitalize()"
   ]
  },
  {
   "cell_type": "code",
   "execution_count": 3,
   "id": "enclosed-venue",
   "metadata": {},
   "outputs": [
    {
     "name": "stdout",
     "output_type": "stream",
     "text": [
      "False\n",
      "True\n"
     ]
    }
   ],
   "source": [
    "my_str = '987654321'\n",
    "print(my_str.isalpha()) # str.isalpha() # 문자열 내의 모든 문자가 알파벳\n",
    "print(my_str.isdecimal()) # str.isdecimal() # 문자열 내의 모든 문자가 10진법 숫자"
   ]
  },
  {
   "cell_type": "markdown",
   "id": "frequent-aggregate",
   "metadata": {},
   "source": [
    "***"
   ]
  },
  {
   "cell_type": "code",
   "execution_count": 4,
   "id": "written-speed",
   "metadata": {},
   "outputs": [
    {
     "name": "stdout",
     "output_type": "stream",
     "text": [
      "['YYYY', 'mm-dd']\n",
      "['YYYY-mm', 'dd']\n"
     ]
    }
   ],
   "source": [
    "# str.split(sep=None, maxsplit=-1)\n",
    "my_str = 'YYYY-mm-dd'\n",
    "print(my_str.split(sep='-', maxsplit=1))\n",
    "print(my_str.rsplit(sep='-', maxsplit=1))"
   ]
  },
  {
   "cell_type": "code",
   "execution_count": 5,
   "id": "impossible-technique",
   "metadata": {},
   "outputs": [
    {
     "name": "stdout",
     "output_type": "stream",
     "text": [
      "YYYY-mm-dd\n"
     ]
    }
   ],
   "source": [
    "# str.join(iterable)\n",
    "my_iter = ['YYYY','mm','dd']\n",
    "print('-'.join(my_iter))"
   ]
  },
  {
   "cell_type": "code",
   "execution_count": 6,
   "id": "dressed-desire",
   "metadata": {},
   "outputs": [
    {
     "name": "stdout",
     "output_type": "stream",
     "text": [
      "YYYY.mm.dd\n"
     ]
    }
   ],
   "source": [
    "# str.replace(sub1,sub2,n)\n",
    "my_str = 'YYYY-mm-dd'\n",
    "print(my_str.replace('-','.'))"
   ]
  },
  {
   "cell_type": "markdown",
   "id": "danish-pension",
   "metadata": {},
   "source": [
    "***"
   ]
  },
  {
   "cell_type": "code",
   "execution_count": 7,
   "id": "universal-class",
   "metadata": {},
   "outputs": [
    {
     "name": "stdout",
     "output_type": "stream",
     "text": [
      "ror\n",
      "rora\n",
      "auror\n"
     ]
    }
   ],
   "source": [
    "# str.strip(chars)\n",
    "# remove the leading or trailing characters\n",
    "# consider all combinations # 해당하지 않는 문자가 나타날 때까지 삭제\n",
    "my_str = 'aurora'\n",
    "print(my_str.strip('aeiou'))\n",
    "print(my_str.lstrip('aeiou'))\n",
    "print(my_str.rstrip('aeiou'))"
   ]
  },
  {
   "cell_type": "code",
   "execution_count": 8,
   "id": "anticipated-lincoln",
   "metadata": {},
   "outputs": [
    {
     "name": "stdout",
     "output_type": "stream",
     "text": [
      "-12345000\n",
      "000-12345\n"
     ]
    }
   ],
   "source": [
    "# str.ljust(width,x)\n",
    "# left-justified, right-filled, width as length\n",
    "# return the original when width <= length\n",
    "my_str = '-12345'\n",
    "print(my_str.ljust(9,'0')) \n",
    "print(my_str.rjust(9,'0'))"
   ]
  },
  {
   "cell_type": "code",
   "execution_count": 9,
   "id": "combined-buddy",
   "metadata": {},
   "outputs": [
    {
     "name": "stdout",
     "output_type": "stream",
     "text": [
      "-00012345\n"
     ]
    }
   ],
   "source": [
    "# str.zfill(width)\n",
    "# right-justified, left-filled with zero, width as length\n",
    "# return the original when width <= length\n",
    "my_str = '-12345'\n",
    "print(my_str.zfill(9))"
   ]
  }
 ],
 "metadata": {
  "kernelspec": {
   "display_name": "Python 3",
   "language": "python",
   "name": "python3"
  },
  "language_info": {
   "codemirror_mode": {
    "name": "ipython",
    "version": 3
   },
   "file_extension": ".py",
   "mimetype": "text/x-python",
   "name": "python",
   "nbconvert_exporter": "python",
   "pygments_lexer": "ipython3",
   "version": "3.8.5"
  }
 },
 "nbformat": 4,
 "nbformat_minor": 5
}
